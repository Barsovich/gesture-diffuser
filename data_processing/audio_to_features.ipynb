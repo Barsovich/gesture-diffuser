{
 "cells": [
  {
   "cell_type": "code",
   "execution_count": 1,
   "metadata": {},
   "outputs": [],
   "source": [
    "import tools\n",
    "import numpy as np\n",
    "import glob\n",
    "import os\n",
    "from tqdm import tqdm\n",
    "%load_ext autoreload\n",
    "%autoreload 2"
   ]
  },
  {
   "cell_type": "code",
   "execution_count": 2,
   "metadata": {},
   "outputs": [],
   "source": [
    "audio_dir = \"/Users/barissen/projects/gesture-diffuser/data/GENEA_2022/val/wav/\"\n",
    "out_dir = \"/Users/barissen/projects/gesture-diffuser/data/GENEA_2022/val/audio_features/\"\n",
    "motion_dir = \"/Users/barissen/projects/gesture-diffuser/data/GENEA_2022/val/npz\"\n",
    "files = sorted([f for f in glob.iglob(audio_dir + '/*.wav')])\n"
   ]
  },
  {
   "cell_type": "code",
   "execution_count": 3,
   "metadata": {},
   "outputs": [],
   "source": [
    "if not os.path.isdir(out_dir):\n",
    "  os.mkdir(out_dir)"
   ]
  },
  {
   "cell_type": "code",
   "execution_count": 4,
   "metadata": {},
   "outputs": [
    {
     "name": "stderr",
     "output_type": "stream",
     "text": [
      "100%|██████████| 40/40 [00:54<00:00,  1.36s/it]\n"
     ]
    }
   ],
   "source": [
    "for f in tqdm(files):\n",
    "  mfcc_vectors = tools.calculate_mfcc(f)\n",
    "  pros_vectors = tools.extract_prosodic_features(f)\n",
    "  mfcc_vectors, pros_vectors = tools.shorten(mfcc_vectors, pros_vectors)\n",
    "  input_vectors = np.concatenate((mfcc_vectors, pros_vectors), axis=1)\n",
    "\n",
    "  filename = os.path.basename(f)\n",
    "  out_file = os.path.join(out_dir, filename[:-3] + \"npy\")\n",
    "  motion = np.load(os.path.join(motion_dir, filename[:-3] + \"npz\"))['clips']\n",
    "  if motion.shape[0] != input_vectors.shape[0]: \n",
    "    print(f\"Size does not match for {f}: motion.shape: {motion.shape}, input_vectors.shape: {input_vectors.shape}\")\n",
    "  np.save(out_file, input_vectors[:motion.shape[0]])"
   ]
  },
  {
   "cell_type": "code",
   "execution_count": null,
   "metadata": {},
   "outputs": [],
   "source": []
  }
 ],
 "metadata": {
  "kernelspec": {
   "display_name": "venv",
   "language": "python",
   "name": "python3"
  },
  "language_info": {
   "codemirror_mode": {
    "name": "ipython",
    "version": 3
   },
   "file_extension": ".py",
   "mimetype": "text/x-python",
   "name": "python",
   "nbconvert_exporter": "python",
   "pygments_lexer": "ipython3",
   "version": "3.8.9"
  },
  "orig_nbformat": 4,
  "vscode": {
   "interpreter": {
    "hash": "0fb60b568b9eafea3dac73304166ce4cbcca6e97c109218915796e4b74930d0f"
   }
  }
 },
 "nbformat": 4,
 "nbformat_minor": 2
}
